{
 "cells": [
  {
   "cell_type": "code",
   "execution_count": 2,
   "id": "0071ade4",
   "metadata": {},
   "outputs": [],
   "source": [
    "%load_ext autoreload\n",
    "%autoreload 2"
   ]
  },
  {
   "cell_type": "code",
   "execution_count": 3,
   "id": "9355ec88",
   "metadata": {},
   "outputs": [],
   "source": [
    "import sys\n",
    "sys.path.append('/Users/scortesg/Documents/risk_certificate')\n",
    "sys.path.append('/usr0/home/naveenr/projects/risk_certificate')"
   ]
  },
  {
   "cell_type": "code",
   "execution_count": 4,
   "id": "448cd94e",
   "metadata": {},
   "outputs": [],
   "source": [
    "import matplotlib.pyplot as plt\n",
    "import pickle\n",
    "import numpy as np\n",
    "import random\n",
    "import argparse\n",
    "import secrets\n",
    "from certificate.run_simulations import run_experiments, delete_duplicate_results\n",
    "import json "
   ]
  },
  {
   "cell_type": "code",
   "execution_count": 5,
   "id": "37459a31",
   "metadata": {},
   "outputs": [],
   "source": [
    "is_jupyter = 'ipykernel' in sys.modules"
   ]
  },
  {
   "cell_type": "code",
   "execution_count": 108,
   "id": "4610311f",
   "metadata": {},
   "outputs": [],
   "source": [
    "if is_jupyter: \n",
    "    seed        = 43\n",
    "    trials = 100\n",
    "    n_arms = 10\n",
    "    max_pulls_per_arm = 50\n",
    "    first_stage_pulls_per_arm = 25\n",
    "    arm_distribution = 'beta_misspecified'\n",
    "    out_folder = \"prior\"\n",
    "    arm_parameters=  {'alpha': 50, 'beta': 50, 'diff_mean_1': 0.05, 'diff_std_1': 0.01,'diff_mean_2': 0.01, 'diff_std_2': 0.001}\n",
    "    delta = 0.1\n",
    "    run_all_k = True\n",
    "else:\n",
    "    parser = argparse.ArgumentParser()\n",
    "    parser.add_argument('--seed', help='Random Seed', type=int, default=42)\n",
    "    parser.add_argument('--trials', help='Trials', type=int, default=25)\n",
    "    parser.add_argument('--n_arms',         '-N', help='Number of arms', type=int, default=10)\n",
    "    parser.add_argument('--max_pulls_per_arm',        help='Maximum pulls per arm', type=int, default=10)\n",
    "    parser.add_argument('--first_stage_pulls_per_arm',          help='Number of first stage pulls ', type=int, default=4)\n",
    "    parser.add_argument('--arm_distribution',          help='Distribution of arms', type=str, default='uniform')\n",
    "    parser.add_argument('--run_all_k',        help='Maximum pulls per arm', action='store_true')\n",
    "    parser.add_argument('--delta',        help='Maximum pulls per arm', type=float, default=0.1)\n",
    "    parser.add_argument('--alpha',        help='Maximum pulls per arm', type=float, default=2)\n",
    "    parser.add_argument('--beta',        help='Maximum pulls per arm', type=float, default=2)\n",
    "    parser.add_argument('--diff_mean_1',        help='Maximum pulls per arm', type=float, default=2)\n",
    "    parser.add_argument('--diff_std_1',        help='Maximum pulls per arm', type=float, default=2)\n",
    "    parser.add_argument('--diff_mean_2',        help='Maximum pulls per arm', type=float, default=2)\n",
    "    parser.add_argument('--diff_std_2',        help='Maximum pulls per arm', type=float, default=2)\n",
    "    parser.add_argument('--out_folder', help='Which folder to write results to', type=str, default='policy_comparison')\n",
    "\n",
    "    args = parser.parse_args()\n",
    "\n",
    "    seed = args.seed\n",
    "    n_arms = args.n_arms\n",
    "    max_pulls_per_arm = args.max_pulls_per_arm \n",
    "    first_stage_pulls_per_arm = args.first_stage_pulls_per_arm\n",
    "    arm_distribution = args.arm_distribution\n",
    "    out_folder = args.out_folder\n",
    "    delta = args.delta \n",
    "    alpha = args.alpha \n",
    "    beta = args.beta \n",
    "    trials = args.trials \n",
    "    diff_mean_1 = args.diff_mean_1 \n",
    "    diff_std_1 = args.diff_std_1 \n",
    "    diff_mean_2 = args.diff_mean_2 \n",
    "    diff_std_2 = args.diff_std_2\n",
    "    arm_parameters = {'alpha': alpha, 'beta': beta, 'diff_mean_1': diff_mean_1, 'diff_mean_2': diff_mean_2, 'diff_std_1': diff_std_1, 'diff_std_2': diff_std_2}\n",
    "    run_all_k = args.run_all_k\n",
    "\n",
    "save_name = secrets.token_hex(4)  "
   ]
  },
  {
   "cell_type": "code",
   "execution_count": 109,
   "id": "a80897e8",
   "metadata": {},
   "outputs": [],
   "source": [
    "random.seed(seed)\n",
    "np.random.seed(seed)"
   ]
  },
  {
   "cell_type": "code",
   "execution_count": 110,
   "id": "86d7a8b4",
   "metadata": {},
   "outputs": [],
   "source": [
    "arm_means = []\n",
    "for i in range(n_arms):\n",
    "    if arm_distribution == 'uniform':\n",
    "        arm_means.append(random.random())\n",
    "    elif arm_distribution == 'beta':\n",
    "        arm_means.append(np.random.beta(arm_parameters['alpha'],arm_parameters['beta']))\n",
    "    elif arm_distribution == 'beta_misspecified':\n",
    "        arm_means.append(np.clip(np.random.beta(arm_parameters['alpha'],arm_parameters['beta']) + np.random.normal(arm_parameters['diff_mean_1'],arm_parameters['diff_std_1']),0,1))\n",
    "if arm_distribution == 'unimodal_diff':\n",
    "    arm_means.append(np.random.random())    \n",
    "    for i in range(1,n_arms):\n",
    "        diff = np.random.normal(arm_parameters['diff_mean_1'],arm_parameters['diff_std_1']) \n",
    "        arm_means.append(min(max(arm_means[-1]-diff,0.0001),1))\n",
    "if arm_distribution == 'bimodal_diff':\n",
    "    arm_means.append(np.random.random())    \n",
    "    for i in range(1,n_arms):\n",
    "        if np.random.random() < 0.5:\n",
    "            diff = np.random.normal(arm_parameters['diff_mean_1'],arm_parameters['diff_std_1']) \n",
    "        else:\n",
    "            diff = np.random.normal(arm_parameters['diff_mean_2'],arm_parameters['diff_std_2']) \n",
    "        arm_means.append(min(max(arm_means[-1]-diff,0.0001),1))"
   ]
  },
  {
   "cell_type": "code",
   "execution_count": 112,
   "id": "26b1ee6a",
   "metadata": {},
   "outputs": [],
   "source": [
    "experiment_config = {\n",
    "    'number_arms': n_arms, \n",
    "    'sample_size': max_pulls_per_arm*n_arms, \n",
    "    'first_stage_size': first_stage_pulls_per_arm*n_arms, \n",
    "    'distribution': arm_means, \n",
    "    'arm_distribution': arm_distribution, \n",
    "    'random_seed': seed+1, \n",
    "    'delta': delta,\n",
    "    'run_all_k': run_all_k, \n",
    "    'reward_parameters': arm_parameters\n",
    "}"
   ]
  },
  {
   "cell_type": "code",
   "execution_count": 114,
   "id": "c3a0f86a",
   "metadata": {},
   "outputs": [
    {
     "name": "stdout",
     "output_type": "stream",
     "text": [
      "0 100\n",
      "1 100\n",
      "2 100\n",
      "3 100\n",
      "4 100\n",
      "5 100\n",
      "6 100\n",
      "7 100\n",
      "8 100\n",
      "9 100\n",
      "10 100\n",
      "11 100\n",
      "12 100\n",
      "13 100\n",
      "14 100\n",
      "15 100\n",
      "16 100\n",
      "17 100\n",
      "18 100\n",
      "19 100\n",
      "20 100\n",
      "21 100\n",
      "22 100\n",
      "23 100\n",
      "24 100\n",
      "25 100\n",
      "26 100\n",
      "27 100\n",
      "28 100\n",
      "29 100\n",
      "30 100\n",
      "31 100\n",
      "32 100\n",
      "33 100\n",
      "34 100\n",
      "35 100\n",
      "36 100\n",
      "37 100\n",
      "38 100\n",
      "39 100\n",
      "40 100\n",
      "41 100\n",
      "42 100\n",
      "43 100\n",
      "44 100\n",
      "45 100\n",
      "46 100\n",
      "47 100\n",
      "48 100\n",
      "49 100\n",
      "50 100\n",
      "51 100\n",
      "52 100\n",
      "53 100\n",
      "54 100\n",
      "55 100\n",
      "56 100\n",
      "57 100\n",
      "58 100\n",
      "59 100\n",
      "60 100\n",
      "61 100\n",
      "62 100\n",
      "63 100\n",
      "64 100\n",
      "65 100\n",
      "66 100\n",
      "67 100\n",
      "68 100\n",
      "69 100\n",
      "70 100\n",
      "71 100\n",
      "72 100\n",
      "73 100\n",
      "74 100\n",
      "75 100\n",
      "76 100\n",
      "77 100\n",
      "78 100\n",
      "79 100\n",
      "80 100\n",
      "81 100\n",
      "82 100\n",
      "83 100\n",
      "84 100\n",
      "85 100\n",
      "86 100\n",
      "87 100\n",
      "88 100\n",
      "89 100\n",
      "90 100\n",
      "91 100\n",
      "92 100\n",
      "93 100\n",
      "94 100\n",
      "95 100\n",
      "96 100\n",
      "97 100\n",
      "98 100\n",
      "99 100\n"
     ]
    }
   ],
   "source": [
    "all_results = []\n",
    "\n",
    "for i in range(trials):\n",
    "    experiment_config['random_seed'] = seed+i\n",
    "    results = run_experiments(experiment_config)\n",
    "    all_results.append(results)"
   ]
  },
  {
   "cell_type": "code",
   "execution_count": 115,
   "id": "05d284b4",
   "metadata": {},
   "outputs": [],
   "source": [
    "aggregate_results = {}\n",
    "aggregate_results['parameters'] = experiment_config\n",
    "aggregate_results['parameters']['seed'] = seed \n",
    "\n",
    "for method in all_results[0]:\n",
    "    aggregate_results[method] = {}\n",
    "    aggregate_results[method]['certificate'] = [max(i[method]['certificate']) for i in all_results]\n",
    "    aggregate_results[method]['delta'] = [i[method]['delta'].tolist() for i in all_results]\n",
    "    aggregate_results[method]['true_value'] = all_results[0][method]['true_value']\n"
   ]
  },
  {
   "cell_type": "code",
   "execution_count": 116,
   "id": "d8aa322c",
   "metadata": {},
   "outputs": [
    {
     "data": {
      "text/plain": [
       "0.35313344476818614"
      ]
     },
     "execution_count": 116,
     "metadata": {},
     "output_type": "execute_result"
    }
   ],
   "source": [
    "np.mean(aggregate_results['sample_split_total']['certificate'])"
   ]
  },
  {
   "cell_type": "code",
   "execution_count": 117,
   "id": "6a81c848",
   "metadata": {},
   "outputs": [
    {
     "data": {
      "text/plain": [
       "0.30484964132587705"
      ]
     },
     "execution_count": 117,
     "metadata": {},
     "output_type": "execute_result"
    }
   ],
   "source": [
    "np.mean(aggregate_results['sample_split']['certificate'])"
   ]
  },
  {
   "cell_type": "code",
   "execution_count": 118,
   "id": "1057a650",
   "metadata": {},
   "outputs": [
    {
     "name": "stdout",
     "output_type": "stream",
     "text": [
      "1.0831522849468185\n"
     ]
    }
   ],
   "source": [
    "if 'prior' in aggregate_results:\n",
    "    print(np.mean(aggregate_results['prior']['certificate'])/np.mean(aggregate_results['sample_split_total']['certificate']))"
   ]
  },
  {
   "cell_type": "code",
   "execution_count": 48,
   "id": "3e515e8b",
   "metadata": {},
   "outputs": [
    {
     "data": {
      "text/plain": [
       "0.44941111760557"
      ]
     },
     "execution_count": 48,
     "metadata": {},
     "output_type": "execute_result"
    }
   ],
   "source": [
    "np.mean(aggregate_results['random']['certificate'])"
   ]
  },
  {
   "cell_type": "code",
   "execution_count": 397,
   "id": "9cf9acee",
   "metadata": {},
   "outputs": [
    {
     "data": {
      "text/plain": [
       "0.34616367652045704"
      ]
     },
     "execution_count": 397,
     "metadata": {},
     "output_type": "execute_result"
    }
   ],
   "source": [
    "np.mean(aggregate_results['k_{}'.format(n_arms)]['delta'])"
   ]
  },
  {
   "cell_type": "code",
   "execution_count": 398,
   "id": "64ccfc2d",
   "metadata": {},
   "outputs": [
    {
     "data": {
      "text/plain": [
       "0.5020363234795429"
      ]
     },
     "execution_count": 398,
     "metadata": {},
     "output_type": "execute_result"
    }
   ],
   "source": [
    "np.mean(aggregate_results['one_stage']['certificate'])"
   ]
  },
  {
   "cell_type": "code",
   "execution_count": 399,
   "id": "36853cfb",
   "metadata": {},
   "outputs": [
    {
     "data": {
      "text/plain": [
       "0.3500334338977605"
      ]
     },
     "execution_count": 399,
     "metadata": {},
     "output_type": "execute_result"
    }
   ],
   "source": [
    "np.mean(aggregate_results['k_{}'.format(1)]['certificate'])"
   ]
  },
  {
   "cell_type": "code",
   "execution_count": 400,
   "id": "84fb9b61",
   "metadata": {},
   "outputs": [
    {
     "data": {
      "text/plain": [
       "0.505036323479543"
      ]
     },
     "execution_count": 400,
     "metadata": {},
     "output_type": "execute_result"
    }
   ],
   "source": [
    "np.mean(aggregate_results['omniscient']['certificate'])"
   ]
  },
  {
   "cell_type": "code",
   "execution_count": 401,
   "id": "15ec61c5",
   "metadata": {},
   "outputs": [
    {
     "data": {
      "text/plain": [
       "-0.34616367652045704"
      ]
     },
     "execution_count": 401,
     "metadata": {},
     "output_type": "execute_result"
    }
   ],
   "source": [
    "np.mean(aggregate_results['k_{}'.format(n_arms)]['true_value'])-np.mean(aggregate_results['omniscient']['delta'])"
   ]
  },
  {
   "cell_type": "markdown",
   "id": "a7059d28",
   "metadata": {},
   "source": [
    "## Write Data"
   ]
  },
  {
   "cell_type": "code",
   "execution_count": 120,
   "id": "d27ad3c0",
   "metadata": {},
   "outputs": [],
   "source": [
    "save_path = \"{}/{}.json\".format(out_folder,save_name)"
   ]
  },
  {
   "cell_type": "code",
   "execution_count": 121,
   "id": "e871a84a",
   "metadata": {},
   "outputs": [],
   "source": [
    "delete_duplicate_results(out_folder,\"\",aggregate_results)"
   ]
  },
  {
   "cell_type": "code",
   "execution_count": 122,
   "id": "999e1caf",
   "metadata": {},
   "outputs": [],
   "source": [
    "json.dump(aggregate_results,open('../../results/'+save_path,'w'))"
   ]
  }
 ],
 "metadata": {
  "kernelspec": {
   "display_name": "risk_certificates",
   "language": "python",
   "name": "python3"
  },
  "language_info": {
   "codemirror_mode": {
    "name": "ipython",
    "version": 3
   },
   "file_extension": ".py",
   "mimetype": "text/x-python",
   "name": "python",
   "nbconvert_exporter": "python",
   "pygments_lexer": "ipython3",
   "version": "3.10.14"
  }
 },
 "nbformat": 4,
 "nbformat_minor": 5
}
