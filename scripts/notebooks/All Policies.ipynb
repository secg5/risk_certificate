{
 "cells": [
  {
   "cell_type": "code",
   "execution_count": 1,
   "id": "0071ade4",
   "metadata": {},
   "outputs": [],
   "source": [
    "%load_ext autoreload\n",
    "%autoreload 2"
   ]
  },
  {
   "cell_type": "code",
   "execution_count": 16,
   "id": "448cd94e",
   "metadata": {},
   "outputs": [],
   "source": [
    "import matplotlib.pyplot as plt\n",
    "import pickle\n",
    "import numpy as np\n",
    "import random\n",
    "import argparse\n",
    "import secrets\n",
    "from certificate.run_simulations import run_experiments, generate_arm_means\n",
    "from certificate.utils import delete_duplicate_results\n",
    "import json \n",
    "import sys\n",
    "import os"
   ]
  },
  {
   "cell_type": "code",
   "execution_count": 17,
   "id": "37459a31",
   "metadata": {},
   "outputs": [],
   "source": [
    "is_jupyter = 'ipykernel' in sys.modules"
   ]
  },
  {
   "cell_type": "code",
   "execution_count": 86,
   "id": "4610311f",
   "metadata": {},
   "outputs": [],
   "source": [
    "if is_jupyter: \n",
    "    seed        = 43\n",
    "    trials = 100\n",
    "    n_arms = 10\n",
    "    max_pulls_per_arm = 50\n",
    "    first_stage_pulls_per_arm = 25\n",
    "    arm_distribution = 'uniform'\n",
    "    out_folder = \"uniform\"\n",
    "    arm_parameters=  {} # {'alpha': 50, 'beta': 50, 'diff_mean_1': 0.05, 'diff_std_1': 0.01,'diff_mean_2': 0.01, 'diff_std_2': 0.001}\n",
    "    delta = 0.1\n",
    "    run_all_k = True\n",
    "else:\n",
    "    parser = argparse.ArgumentParser()\n",
    "    parser.add_argument('--seed', help='Random Seed', type=int, default=42)\n",
    "    parser.add_argument('--trials', help='Trials', type=int, default=25)\n",
    "    parser.add_argument('--n_arms',         '-N', help='Number of arms', type=int, default=10)\n",
    "    parser.add_argument('--max_pulls_per_arm',        help='Maximum pulls per arm', type=int, default=10)\n",
    "    parser.add_argument('--first_stage_pulls_per_arm',          help='Number of first stage pulls ', type=int, default=4)\n",
    "    parser.add_argument('--arm_distribution',          help='Distribution of arms', type=str, default='uniform')\n",
    "    parser.add_argument('--run_all_k',        help='Maximum pulls per arm', action='store_true')\n",
    "    parser.add_argument('--delta',        help='Maximum pulls per arm', type=float, default=0.1)\n",
    "    parser.add_argument('--alpha',        help='Maximum pulls per arm', type=float, default=2)\n",
    "    parser.add_argument('--beta',        help='Maximum pulls per arm', type=float, default=2)\n",
    "    parser.add_argument('--diff_mean_1',        help='Maximum pulls per arm', type=float, default=2)\n",
    "    parser.add_argument('--diff_std_1',        help='Maximum pulls per arm', type=float, default=2)\n",
    "    parser.add_argument('--diff_mean_2',        help='Maximum pulls per arm', type=float, default=2)\n",
    "    parser.add_argument('--diff_std_2',        help='Maximum pulls per arm', type=float, default=2)\n",
    "    parser.add_argument('--out_folder', help='Which folder to write results to', type=str, default='policy_comparison')\n",
    "\n",
    "    args = parser.parse_args()\n",
    "\n",
    "    seed = args.seed\n",
    "    n_arms = args.n_arms\n",
    "    max_pulls_per_arm = args.max_pulls_per_arm \n",
    "    first_stage_pulls_per_arm = args.first_stage_pulls_per_arm\n",
    "    arm_distribution = args.arm_distribution\n",
    "    out_folder = args.out_folder\n",
    "    delta = args.delta \n",
    "    alpha = args.alpha \n",
    "    beta = args.beta \n",
    "    trials = args.trials \n",
    "    diff_mean_1 = args.diff_mean_1 \n",
    "    diff_std_1 = args.diff_std_1 \n",
    "    diff_mean_2 = args.diff_mean_2 \n",
    "    diff_std_2 = args.diff_std_2\n",
    "    arm_parameters = {'alpha': alpha, 'beta': beta, 'diff_mean_1': diff_mean_1, 'diff_mean_2': diff_mean_2, 'diff_std_1': diff_std_1, 'diff_std_2': diff_std_2}\n",
    "    run_all_k = args.run_all_k\n",
    "\n",
    "save_name = secrets.token_hex(4)  "
   ]
  },
  {
   "cell_type": "code",
   "execution_count": 87,
   "id": "a80897e8",
   "metadata": {},
   "outputs": [],
   "source": [
    "random.seed(seed)\n",
    "np.random.seed(seed)"
   ]
  },
  {
   "cell_type": "markdown",
   "id": "3ed934f3",
   "metadata": {},
   "source": [
    "## Run Policies"
   ]
  },
  {
   "cell_type": "code",
   "execution_count": 88,
   "id": "86d7a8b4",
   "metadata": {},
   "outputs": [],
   "source": [
    "arm_means = generate_arm_means(arm_distribution,arm_parameters,n_arms)"
   ]
  },
  {
   "cell_type": "code",
   "execution_count": 89,
   "id": "26b1ee6a",
   "metadata": {},
   "outputs": [],
   "source": [
    "experiment_config = {\n",
    "    'number_arms': n_arms, \n",
    "    'sample_size': max_pulls_per_arm*n_arms, \n",
    "    'first_stage_size': first_stage_pulls_per_arm*n_arms, \n",
    "    'distribution': arm_means, \n",
    "    'arm_distribution': arm_distribution, \n",
    "    'random_seed': seed+1, \n",
    "    'delta': delta,\n",
    "    'run_all_k': run_all_k, \n",
    "    'reward_parameters': arm_parameters, \n",
    "    'true_value': np.max(arm_means)\n",
    "}"
   ]
  },
  {
   "cell_type": "code",
   "execution_count": 90,
   "id": "c3a0f86a",
   "metadata": {},
   "outputs": [],
   "source": [
    "all_results = []\n",
    "\n",
    "for i in range(trials):\n",
    "    experiment_config['random_seed'] = seed+i\n",
    "    results = run_experiments(experiment_config)\n",
    "    all_results.append(results)"
   ]
  },
  {
   "cell_type": "code",
   "execution_count": 91,
   "id": "05d284b4",
   "metadata": {},
   "outputs": [],
   "source": [
    "aggregate_results = {}\n",
    "aggregate_results['parameters'] = experiment_config\n",
    "aggregate_results['parameters']['seed'] = seed \n",
    "\n",
    "for method in all_results[0]:\n",
    "    aggregate_results[method] = {}\n",
    "    aggregate_results[method]['certificate'] = [max(i[method]['certificate']) for i in all_results]\n",
    "    aggregate_results[method]['certificate_width'] = [i[method]['certificate_width'] for i in all_results]\n"
   ]
  },
  {
   "cell_type": "code",
   "execution_count": 94,
   "id": "2ee03543",
   "metadata": {},
   "outputs": [
    {
     "name": "stdout",
     "output_type": "stream",
     "text": [
      "omniscient 0.7774390195278785\n",
      "dominant 0.7590657259876146\n",
      "sample_split 0.7565952839652458\n",
      "sample_split_total 0.7643542838379979\n",
      "two_stage_thompson 0.7676557200905567\n",
      "two_stage_successive_elimination 0.7078474478008941\n",
      "ucb 0.7958302814914915\n",
      "successive_elimination 0.7362139673134714\n",
      "k_1 0.733938595755849\n",
      "k_2 0.7483494817562382\n",
      "k_3 0.736316021662907\n",
      "k_4 0.7254062237697622\n",
      "k_5 0.7078572870614853\n",
      "k_6 0.6964571132023571\n",
      "k_7 0.6835984578932103\n",
      "k_8 0.6751557377060249\n",
      "k_9 0.6593787502305095\n",
      "k_10 0.6534033973710652\n",
      "random 0.700345017873978\n",
      "one_stage 0.7162572870614854\n"
     ]
    }
   ],
   "source": [
    "for i in aggregate_results:\n",
    "    if 'certificate' in aggregate_results[i]:\n",
    "        print(i,np.mean(aggregate_results[i]['certificate']))"
   ]
  },
  {
   "cell_type": "markdown",
   "id": "a7059d28",
   "metadata": {},
   "source": [
    "## Write Data"
   ]
  },
  {
   "cell_type": "code",
   "execution_count": 33,
   "id": "d27ad3c0",
   "metadata": {},
   "outputs": [],
   "source": [
    "save_path = \"{}/{}.json\".format(out_folder,save_name)"
   ]
  },
  {
   "cell_type": "code",
   "execution_count": 34,
   "id": "e871a84a",
   "metadata": {},
   "outputs": [],
   "source": [
    "delete_duplicate_results(out_folder,\"\",aggregate_results)"
   ]
  },
  {
   "cell_type": "code",
   "execution_count": 35,
   "id": "999e1caf",
   "metadata": {},
   "outputs": [],
   "source": [
    "if is_jupyter:\n",
    "    dirname = os.path.abspath('')\n",
    "    filename = os.path.join(dirname, '../../results/'+save_path)\n",
    "else:\n",
    "    dirname = os.path.dirname(os.path.abspath(__file__))\n",
    "    filename = os.path.join(dirname, '../../results/'+save_path)\n",
    "json.dump(aggregate_results,open(filename,'w'))"
   ]
  }
 ],
 "metadata": {
  "kernelspec": {
   "display_name": "risk_certificates",
   "language": "python",
   "name": "python3"
  },
  "language_info": {
   "codemirror_mode": {
    "name": "ipython",
    "version": 3
   },
   "file_extension": ".py",
   "mimetype": "text/x-python",
   "name": "python",
   "nbconvert_exporter": "python",
   "pygments_lexer": "ipython3",
   "version": "3.10.14"
  }
 },
 "nbformat": 4,
 "nbformat_minor": 5
}
