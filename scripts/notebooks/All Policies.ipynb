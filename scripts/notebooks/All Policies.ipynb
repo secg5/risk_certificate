{
 "cells": [
  {
   "cell_type": "code",
   "execution_count": 1,
   "id": "0071ade4",
   "metadata": {},
   "outputs": [],
   "source": [
    "%load_ext autoreload\n",
    "%autoreload 2"
   ]
  },
  {
   "cell_type": "code",
   "execution_count": 2,
   "id": "9355ec88",
   "metadata": {},
   "outputs": [],
   "source": [
    "import sys\n",
    "sys.path.append('/Users/scortesg/Documents/risk_certificate')\n",
    "sys.path.append('/usr0/home/naveenr/projects/risk_certificate')"
   ]
  },
  {
   "cell_type": "code",
   "execution_count": 3,
   "id": "448cd94e",
   "metadata": {},
   "outputs": [],
   "source": [
    "import matplotlib.pyplot as plt\n",
    "import pickle\n",
    "import numpy as np\n",
    "import random\n",
    "import argparse\n",
    "import secrets\n",
    "from certificate.run_simulations import run_experiments, delete_duplicate_results\n",
    "import json "
   ]
  },
  {
   "cell_type": "code",
   "execution_count": 4,
   "id": "37459a31",
   "metadata": {},
   "outputs": [],
   "source": [
    "is_jupyter = 'ipykernel' in sys.modules"
   ]
  },
  {
   "cell_type": "code",
   "execution_count": 299,
   "id": "4610311f",
   "metadata": {},
   "outputs": [],
   "source": [
    "if is_jupyter: \n",
    "    seed        = 44\n",
    "    trials = 100\n",
    "    n_arms = 10\n",
    "    max_pulls_per_arm = 50\n",
    "    first_stage_pulls_per_arm = 5\n",
    "    arm_distribution = 'unimodal_diff'\n",
    "    out_folder = \"baseline_comparison\"\n",
    "    arm_parameters=  {'alpha': 2, 'beta': 2, 'diff_mean_1': 0.05, 'diff_std_1': 0.01,'diff_mean_2': 0.01, 'diff_std_2': 0.001}\n",
    "    delta = 0.1\n",
    "    run_all_k = True\n",
    "else:\n",
    "    parser = argparse.ArgumentParser()\n",
    "    parser.add_argument('--seed', help='Random Seed', type=int, default=42)\n",
    "    parser.add_argument('--trials', help='Trials', type=int, default=25)\n",
    "    parser.add_argument('--n_arms',         '-N', help='Number of arms', type=int, default=10)\n",
    "    parser.add_argument('--max_pulls_per_arm',        help='Maximum pulls per arm', type=int, default=10)\n",
    "    parser.add_argument('--first_stage_pulls_per_arm',          help='Number of first stage pulls ', type=int, default=4)\n",
    "    parser.add_argument('--arm_distribution',          help='Distribution of arms', type=str, default='uniform')\n",
    "    parser.add_argument('--run_all_k',        help='Maximum pulls per arm', action='store_true')\n",
    "    parser.add_argument('--delta',        help='Maximum pulls per arm', type=float, default=0.1)\n",
    "    parser.add_argument('--alpha',        help='Maximum pulls per arm', type=float, default=2)\n",
    "    parser.add_argument('--beta',        help='Maximum pulls per arm', type=float, default=2)\n",
    "    parser.add_argument('--diff_mean_1',        help='Maximum pulls per arm', type=float, default=2)\n",
    "    parser.add_argument('--diff_std_1',        help='Maximum pulls per arm', type=float, default=2)\n",
    "    parser.add_argument('--diff_mean_2',        help='Maximum pulls per arm', type=float, default=2)\n",
    "    parser.add_argument('--diff_std_2',        help='Maximum pulls per arm', type=float, default=2)\n",
    "    parser.add_argument('--out_folder', help='Which folder to write results to', type=str, default='policy_comparison')\n",
    "\n",
    "    args = parser.parse_args()\n",
    "\n",
    "    seed = args.seed\n",
    "    n_arms = args.n_arms\n",
    "    max_pulls_per_arm = args.max_pulls_per_arm \n",
    "    first_stage_pulls_per_arm = args.first_stage_pulls_per_arm\n",
    "    arm_distribution = args.arm_distribution\n",
    "    out_folder = args.out_folder\n",
    "    delta = args.delta \n",
    "    alpha = args.alpha \n",
    "    beta = args.beta \n",
    "    trials = args.trials \n",
    "    diff_mean_1 = args.diff_mean_1 \n",
    "    diff_std_1 = args.diff_std_1 \n",
    "    diff_mean_2 = args.diff_mean_2 \n",
    "    diff_std_2 = args.diff_std_2\n",
    "    arm_parameters = {'alpha': alpha, 'beta': beta, 'diff_mean_1': diff_mean_1, 'diff_mean_2': diff_mean_2, 'diff_std_1': diff_std_1, 'diff_std_2': diff_std_2}\n",
    "    run_all_k = args.run_all_k\n",
    "\n",
    "save_name = secrets.token_hex(4)  "
   ]
  },
  {
   "cell_type": "code",
   "execution_count": 300,
   "id": "a80897e8",
   "metadata": {},
   "outputs": [],
   "source": [
    "random.seed(seed)\n",
    "np.random.seed(seed)"
   ]
  },
  {
   "cell_type": "code",
   "execution_count": 301,
   "id": "86d7a8b4",
   "metadata": {},
   "outputs": [],
   "source": [
    "arm_means = []\n",
    "for i in range(n_arms):\n",
    "    if arm_distribution == 'uniform':\n",
    "        arm_means.append(random.random())\n",
    "    elif arm_distribution == 'beta':\n",
    "        arm_means.append(np.random.beta(arm_parameters['alpha'],arm_parameters['beta']))\n",
    "if arm_distribution == 'unimodal_diff':\n",
    "    arm_means.append(np.random.random())    \n",
    "    for i in range(1,n_arms):\n",
    "        diff = np.random.normal(arm_parameters['diff_mean_1'],arm_parameters['diff_std_1']) \n",
    "        arm_means.append(min(max(arm_means[-1]-diff,0.0001),1))\n",
    "if arm_distribution == 'bimodal_diff':\n",
    "    arm_means.append(np.random.random())    \n",
    "    for i in range(1,n_arms):\n",
    "        if np.random.random() < 0.5:\n",
    "            diff = np.random.normal(arm_parameters['diff_mean_1'],arm_parameters['diff_std_1']) \n",
    "        else:\n",
    "            diff = np.random.normal(arm_parameters['diff_mean_2'],arm_parameters['diff_std_2']) \n",
    "        arm_means.append(min(max(arm_means[-1]-diff,0.0001),1))"
   ]
  },
  {
   "cell_type": "code",
   "execution_count": 302,
   "id": "26b1ee6a",
   "metadata": {},
   "outputs": [],
   "source": [
    "experiment_config = {\n",
    "    'number_arms': n_arms, \n",
    "    'sample_size': max_pulls_per_arm*n_arms, \n",
    "    'first_stage_size': first_stage_pulls_per_arm*n_arms, \n",
    "    'distribution': arm_means, \n",
    "    'arm_distribution': arm_distribution, \n",
    "    'random_seed': seed+1, \n",
    "    'delta': delta,\n",
    "    'run_all_k': run_all_k, \n",
    "    'reward_parameters': arm_parameters\n",
    "}"
   ]
  },
  {
   "cell_type": "code",
   "execution_count": 303,
   "id": "c3a0f86a",
   "metadata": {},
   "outputs": [],
   "source": [
    "all_results = []\n",
    "\n",
    "for i in range(trials):\n",
    "    experiment_config['random_seed'] = seed+i\n",
    "    results = run_experiments(experiment_config)\n",
    "    all_results.append(results)"
   ]
  },
  {
   "cell_type": "code",
   "execution_count": 304,
   "id": "05d284b4",
   "metadata": {},
   "outputs": [],
   "source": [
    "aggregate_results = {}\n",
    "aggregate_results['parameters'] = experiment_config\n",
    "aggregate_results['parameters']['seed'] = seed \n",
    "\n",
    "for method in all_results[0]:\n",
    "    aggregate_results[method] = {}\n",
    "    aggregate_results[method]['certificate'] = [max(i[method]['certificate']) for i in all_results]\n",
    "    aggregate_results[method]['delta'] = [i[method]['delta'] for i in all_results]\n",
    "    aggregate_results[method]['true_value'] = all_results[0][method]['true_value']\n"
   ]
  },
  {
   "cell_type": "code",
   "execution_count": 305,
   "id": "d8aa322c",
   "metadata": {},
   "outputs": [
    {
     "data": {
      "text/plain": [
       "0.5115627624414012"
      ]
     },
     "execution_count": 305,
     "metadata": {},
     "output_type": "execute_result"
    }
   ],
   "source": [
    "np.mean(aggregate_results['sample_split_total']['certificate'])"
   ]
  },
  {
   "cell_type": "code",
   "execution_count": 306,
   "id": "6a81c848",
   "metadata": {},
   "outputs": [
    {
     "data": {
      "text/plain": [
       "0.5077217229940486"
      ]
     },
     "execution_count": 306,
     "metadata": {},
     "output_type": "execute_result"
    }
   ],
   "source": [
    "np.mean(aggregate_results['sample_split']['certificate'])"
   ]
  },
  {
   "cell_type": "code",
   "execution_count": 307,
   "id": "3e515e8b",
   "metadata": {},
   "outputs": [
    {
     "data": {
      "text/plain": [
       "0.5064249528604432"
      ]
     },
     "execution_count": 307,
     "metadata": {},
     "output_type": "execute_result"
    }
   ],
   "source": [
    "np.mean(aggregate_results['random']['certificate'])"
   ]
  },
  {
   "cell_type": "code",
   "execution_count": 308,
   "id": "9cf9acee",
   "metadata": {},
   "outputs": [
    {
     "data": {
      "text/plain": [
       "0.36488855367413175"
      ]
     },
     "execution_count": 308,
     "metadata": {},
     "output_type": "execute_result"
    }
   ],
   "source": [
    "np.mean(aggregate_results['k_{}'.format(n_arms)]['delta'])"
   ]
  },
  {
   "cell_type": "code",
   "execution_count": 309,
   "id": "64ccfc2d",
   "metadata": {},
   "outputs": [
    {
     "data": {
      "text/plain": [
       "0.4980585457017653"
      ]
     },
     "execution_count": 309,
     "metadata": {},
     "output_type": "execute_result"
    }
   ],
   "source": [
    "np.mean(aggregate_results['one_stage']['certificate'])"
   ]
  },
  {
   "cell_type": "code",
   "execution_count": 310,
   "id": "36853cfb",
   "metadata": {},
   "outputs": [
    {
     "data": {
      "text/plain": [
       "0.43205655227095874"
      ]
     },
     "execution_count": 310,
     "metadata": {},
     "output_type": "execute_result"
    }
   ],
   "source": [
    "np.mean(aggregate_results['k_{}'.format(1)]['certificate'])"
   ]
  },
  {
   "cell_type": "code",
   "execution_count": 311,
   "id": "84fb9b61",
   "metadata": {},
   "outputs": [
    {
     "data": {
      "text/plain": [
       "0.5756529043927651"
      ]
     },
     "execution_count": 311,
     "metadata": {},
     "output_type": "execute_result"
    }
   ],
   "source": [
    "np.mean(aggregate_results['omniscient']['certificate'])"
   ]
  },
  {
   "cell_type": "code",
   "execution_count": 312,
   "id": "15ec61c5",
   "metadata": {},
   "outputs": [
    {
     "data": {
      "text/plain": [
       "0.5702966403600019"
      ]
     },
     "execution_count": 312,
     "metadata": {},
     "output_type": "execute_result"
    }
   ],
   "source": [
    "np.mean(aggregate_results['k_{}'.format(n_arms)]['true_value'])-np.mean(aggregate_results['omniscient']['delta'])"
   ]
  },
  {
   "cell_type": "markdown",
   "id": "a7059d28",
   "metadata": {},
   "source": [
    "## Write Data"
   ]
  },
  {
   "cell_type": "code",
   "execution_count": 16,
   "id": "d27ad3c0",
   "metadata": {},
   "outputs": [],
   "source": [
    "save_path = \"{}/{}.json\".format(out_folder,save_name)"
   ]
  },
  {
   "cell_type": "code",
   "execution_count": 17,
   "id": "e871a84a",
   "metadata": {},
   "outputs": [],
   "source": [
    "delete_duplicate_results(out_folder,\"\",aggregate_results)"
   ]
  },
  {
   "cell_type": "code",
   "execution_count": 18,
   "id": "999e1caf",
   "metadata": {},
   "outputs": [],
   "source": [
    "json.dump(aggregate_results,open('../../results/'+save_path,'w'))"
   ]
  },
  {
   "cell_type": "code",
   "execution_count": null,
   "id": "dc50832a",
   "metadata": {},
   "outputs": [],
   "source": []
  }
 ],
 "metadata": {
  "kernelspec": {
   "display_name": "risk_certificates",
   "language": "python",
   "name": "python3"
  },
  "language_info": {
   "codemirror_mode": {
    "name": "ipython",
    "version": 3
   },
   "file_extension": ".py",
   "mimetype": "text/x-python",
   "name": "python",
   "nbconvert_exporter": "python",
   "pygments_lexer": "ipython3",
   "version": "3.10.14"
  }
 },
 "nbformat": 4,
 "nbformat_minor": 5
}
