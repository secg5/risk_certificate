{
 "cells": [
  {
   "cell_type": "code",
   "execution_count": 1,
   "id": "0071ade4",
   "metadata": {},
   "outputs": [],
   "source": [
    "%load_ext autoreload\n",
    "%autoreload 2"
   ]
  },
  {
   "cell_type": "code",
   "execution_count": 2,
   "id": "9355ec88",
   "metadata": {},
   "outputs": [],
   "source": [
    "import sys\n",
    "sys.path.append('/usr0/home/naveenr/projects/risk_certificate')"
   ]
  },
  {
   "cell_type": "code",
   "execution_count": 3,
   "id": "448cd94e",
   "metadata": {},
   "outputs": [],
   "source": [
    "import matplotlib.pyplot as plt\n",
    "import pickle\n",
    "import numpy as np\n",
    "import random\n",
    "import argparse\n",
    "import secrets\n",
    "from certificate.run_simulations import run_experiments, delete_duplicate_results\n",
    "import json "
   ]
  },
  {
   "cell_type": "code",
   "execution_count": 4,
   "id": "37459a31",
   "metadata": {},
   "outputs": [],
   "source": [
    "is_jupyter = 'ipykernel' in sys.modules"
   ]
  },
  {
   "cell_type": "code",
   "execution_count": 59,
   "id": "4610311f",
   "metadata": {},
   "outputs": [],
   "source": [
    "if is_jupyter: \n",
    "    seed        = 43\n",
    "    trials = 25\n",
    "    n_arms = 10\n",
    "    max_pulls_per_arm = 500\n",
    "    first_stage_pulls_per_arm = 5\n",
    "    arm_distribution = 'bimodal_diff'\n",
    "    out_folder = \"baseline_comparison\"\n",
    "    arm_parameters=  {'alpha': 2, 'beta': 2, 'diff_mean_1': 0.05, 'diff_std_1': 0.05,'diff_mean_2': 0.01, 'diff_std_2': 0.001}\n",
    "    delta = 0.1\n",
    "    run_all_k = False\n",
    "else:\n",
    "    parser = argparse.ArgumentParser()\n",
    "    parser.add_argument('--seed', help='Random Seed', type=int, default=42)\n",
    "    parser.add_argument('--trials', help='Trials', type=int, default=25)\n",
    "    parser.add_argument('--n_arms',         '-N', help='Number of arms', type=int, default=10)\n",
    "    parser.add_argument('--max_pulls_per_arm',        help='Maximum pulls per arm', type=int, default=10)\n",
    "    parser.add_argument('--first_stage_pulls_per_arm',          help='Number of first stage pulls ', type=int, default=4)\n",
    "    parser.add_argument('--arm_distribution',          help='Distribution of arms', type=str, default='uniform')\n",
    "    parser.add_argument('--run_all_k',        help='Maximum pulls per arm', action='store_true')\n",
    "    parser.add_argument('--delta',        help='Maximum pulls per arm', type=float, default=0.1)\n",
    "    parser.add_argument('--alpha',        help='Maximum pulls per arm', type=float, default=2)\n",
    "    parser.add_argument('--beta',        help='Maximum pulls per arm', type=float, default=2)\n",
    "    parser.add_argument('--diff_mean_1',        help='Maximum pulls per arm', type=float, default=2)\n",
    "    parser.add_argument('--diff_std_1',        help='Maximum pulls per arm', type=float, default=2)\n",
    "    parser.add_argument('--diff_mean_2',        help='Maximum pulls per arm', type=float, default=2)\n",
    "    parser.add_argument('--diff_std_2',        help='Maximum pulls per arm', type=float, default=2)\n",
    "    parser.add_argument('--out_folder', help='Which folder to write results to', type=str, default='policy_comparison')\n",
    "\n",
    "    args = parser.parse_args()\n",
    "\n",
    "    seed = args.seed\n",
    "    n_arms = args.n_arms\n",
    "    max_pulls_per_arm = args.max_pulls_per_arm \n",
    "    first_stage_pulls_per_arm = args.first_stage_pulls_per_arm\n",
    "    arm_distribution = args.arm_distribution\n",
    "    out_folder = args.out_folder\n",
    "    delta = args.delta \n",
    "    alpha = args.alpha \n",
    "    beta = args.beta \n",
    "    trials = args.trials \n",
    "    diff_mean_1 = args.diff_mean_1 \n",
    "    diff_std_1 = args.diff_std_1 \n",
    "    diff_mean_2 = args.diff_mean_2 \n",
    "    diff_std_2 = args.diff_std_2\n",
    "    arm_parameters = {'alpha': alpha, 'beta': beta, 'diff_mean_1': diff_mean_1, 'diff_mean_2': diff_mean_2, 'diff_std_1': diff_std_1, 'diff_std_2': diff_std_2}\n",
    "    run_all_k = args.run_all_k\n",
    "\n",
    "save_name = secrets.token_hex(4)  "
   ]
  },
  {
   "cell_type": "code",
   "execution_count": 60,
   "id": "a80897e8",
   "metadata": {},
   "outputs": [],
   "source": [
    "random.seed(seed)\n",
    "np.random.seed(seed)"
   ]
  },
  {
   "cell_type": "code",
   "execution_count": 70,
   "id": "86d7a8b4",
   "metadata": {},
   "outputs": [
    {
     "name": "stdout",
     "output_type": "stream",
     "text": [
      "[0.2708720400199489, 0.13702311082995283, 0.10241139960317905, 0.09259396151530003, 0.043801291626887964, 0.0001, 0.0001, 0.0001, 0.0001, 0.0001]\n"
     ]
    }
   ],
   "source": [
    "arm_means = []\n",
    "for i in range(n_arms):\n",
    "    if arm_distribution == 'uniform':\n",
    "        arm_means.append(random.random())\n",
    "    elif arm_distribution == 'beta':\n",
    "        arm_means.append(np.random.beta(arm_parameters['alpha'],arm_parameters['beta']))\n",
    "if arm_distribution == 'unimodal_diff':\n",
    "    arm_means.append(np.random.random())    \n",
    "    for i in range(1,n_arms):\n",
    "        diff = np.random.normal(arm_parameters['diff_mean_1'],arm_parameters['diff_std_1']) \n",
    "        arm_means.append(min(max(arm_means[-1]-diff,0.0001),1))\n",
    "if arm_distribution == 'bimodal_diff':\n",
    "    arm_means.append(np.random.random())    \n",
    "    for i in range(1,n_arms):\n",
    "        if np.random.random() < 0.5:\n",
    "            diff = np.random.normal(arm_parameters['diff_mean_1'],arm_parameters['diff_std_1']) \n",
    "        else:\n",
    "            diff = np.random.normal(arm_parameters['diff_mean_2'],arm_parameters['diff_std_2']) \n",
    "        arm_means.append(min(max(arm_means[-1]-diff,0.0001),1))"
   ]
  },
  {
   "cell_type": "code",
   "execution_count": 71,
   "id": "26b1ee6a",
   "metadata": {},
   "outputs": [],
   "source": [
    "experiment_config = {\n",
    "    'number_arms': n_arms, \n",
    "    'sample_size': max_pulls_per_arm*n_arms, \n",
    "    'first_stage_size': first_stage_pulls_per_arm*n_arms, \n",
    "    'distribution': arm_means, \n",
    "    'arm_distribution': arm_distribution, \n",
    "    'random_seed': seed+1, \n",
    "    'delta': delta,\n",
    "    'run_all_k': run_all_k, \n",
    "    'reward_parameters': arm_parameters\n",
    "}"
   ]
  },
  {
   "cell_type": "code",
   "execution_count": 73,
   "id": "c3a0f86a",
   "metadata": {},
   "outputs": [],
   "source": [
    "all_results = []\n",
    "\n",
    "for i in range(trials):\n",
    "    experiment_config['random_seed'] = seed+i\n",
    "    results = run_experiments(experiment_config)\n",
    "    all_results.append(results)"
   ]
  },
  {
   "cell_type": "code",
   "execution_count": 74,
   "id": "05d284b4",
   "metadata": {},
   "outputs": [],
   "source": [
    "aggregate_results = {}\n",
    "aggregate_results['parameters'] = experiment_config\n",
    "aggregate_results['parameters']['seed'] = seed \n",
    "\n",
    "for method in all_results[0]:\n",
    "    aggregate_results[method] = {}\n",
    "    aggregate_results[method]['certificate'] = [max(i[method]['certificate']) for i in all_results]\n",
    "    aggregate_results[method]['true_value'] = all_results[0][method]['true_value']"
   ]
  },
  {
   "cell_type": "markdown",
   "id": "a7059d28",
   "metadata": {},
   "source": [
    "## Write Data"
   ]
  },
  {
   "cell_type": "code",
   "execution_count": 75,
   "id": "d27ad3c0",
   "metadata": {},
   "outputs": [],
   "source": [
    "save_path = \"{}/{}.json\".format(out_folder,save_name)"
   ]
  },
  {
   "cell_type": "code",
   "execution_count": 76,
   "id": "e871a84a",
   "metadata": {},
   "outputs": [],
   "source": [
    "delete_duplicate_results(out_folder,\"\",aggregate_results)"
   ]
  },
  {
   "cell_type": "code",
   "execution_count": 77,
   "id": "999e1caf",
   "metadata": {},
   "outputs": [],
   "source": [
    "json.dump(aggregate_results,open('../../results/'+save_path,'w'))"
   ]
  },
  {
   "cell_type": "code",
   "execution_count": null,
   "id": "dc50832a",
   "metadata": {},
   "outputs": [],
   "source": []
  }
 ],
 "metadata": {
  "kernelspec": {
   "display_name": "risk_certificates",
   "language": "python",
   "name": "python3"
  },
  "language_info": {
   "codemirror_mode": {
    "name": "ipython",
    "version": 3
   },
   "file_extension": ".py",
   "mimetype": "text/x-python",
   "name": "python",
   "nbconvert_exporter": "python",
   "pygments_lexer": "ipython3",
   "version": "3.10.14"
  }
 },
 "nbformat": 4,
 "nbformat_minor": 5
}
