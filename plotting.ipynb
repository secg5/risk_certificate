{
 "cells": [
  {
   "cell_type": "code",
   "execution_count": 27,
   "id": "448cd94e",
   "metadata": {},
   "outputs": [],
   "source": [
    "import matplotlib.pyplot as plt\n",
    "import pickle\n",
    "import numpy as np"
   ]
  },
  {
   "cell_type": "code",
   "execution_count": 28,
   "id": "374117f5",
   "metadata": {},
   "outputs": [],
   "source": [
    "with open(\"artifacts.pkl\", \"rb\") as f:\n",
    "    artifacts = pickle.load(f)"
   ]
  },
  {
   "cell_type": "code",
   "execution_count": 29,
   "id": "1e14a2f9",
   "metadata": {},
   "outputs": [
    {
     "data": {
      "text/plain": [
       "{'sample_plit': {'certificate': array([0.85867927, 0.6120126 ]),\n",
       "  'B': array([2, 3]),\n",
       "  'delta': np.float64(0.14132072916016228)},\n",
       " 'omniscient': {'certificate': array([0.85867927, 0.61867927]),\n",
       "  'B': array([2, 3]),\n",
       "  'delta': np.float64(0.14132072916016228)},\n",
       " 'dominant': {'certificate': array([0.82691816, 0.58191816, 0.35191816]),\n",
       "  'B': array([2, 3, 1]),\n",
       "  'delta': np.float64(0.17308183826022852)}}"
      ]
     },
     "execution_count": 29,
     "metadata": {},
     "output_type": "execute_result"
    }
   ],
   "source": [
    "artifacts"
   ]
  },
  {
   "cell_type": "code",
   "execution_count": 17,
   "id": "620a6f14",
   "metadata": {},
   "outputs": [
    {
     "ename": "NameError",
     "evalue": "name 'datasets' is not defined",
     "output_type": "error",
     "traceback": [
      "\u001b[0;31m---------------------------------------------------------------------------\u001b[0m",
      "\u001b[0;31mNameError\u001b[0m                                 Traceback (most recent call last)",
      "Cell \u001b[0;32mIn[17], line 1\u001b[0m\n\u001b[0;32m----> 1\u001b[0m dataset \u001b[38;5;241m=\u001b[39m \u001b[38;5;28mgetattr\u001b[39m(datasets, config\u001b[38;5;241m.\u001b[39mdataset)(\n\u001b[1;32m      2\u001b[0m     num_classes\u001b[38;5;241m=\u001b[39mnum_classes,\n\u001b[1;32m      3\u001b[0m     num_samples\u001b[38;5;241m=\u001b[39mnum_samples,\n\u001b[1;32m      4\u001b[0m     rng\u001b[38;5;241m=\u001b[39mrng,\n\u001b[1;32m      5\u001b[0m )\n",
      "\u001b[0;31mNameError\u001b[0m: name 'datasets' is not defined"
     ]
    }
   ],
   "source": [
    "dataset = getattr(datasets, config.dataset)(\n",
    "    num_classes=num_classes,\n",
    "    num_samples=num_samples,\n",
    "    rng=rng,\n",
    ")"
   ]
  },
  {
   "cell_type": "code",
   "execution_count": 18,
   "id": "d3d92f6e",
   "metadata": {},
   "outputs": [],
   "source": []
  },
  {
   "cell_type": "code",
   "execution_count": 30,
   "id": "2d4fc3b3",
   "metadata": {},
   "outputs": [],
   "source": [
    "mu = [0.1, 0.5, 1, 0.75, 0.25]"
   ]
  },
  {
   "cell_type": "code",
   "execution_count": 31,
   "id": "b37a17a0",
   "metadata": {},
   "outputs": [
    {
     "data": {
      "image/png": "[encoded data removed]",
      "text/plain": [
       "<Figure size 500x600 with 1 Axes>"
      ]
     },
     "metadata": {},
     "output_type": "display_data"
    },
    {
     "data": {
      "text/plain": [
       "<Figure size 640x480 with 0 Axes>"
      ]
     },
     "metadata": {},
     "output_type": "display_data"
    }
   ],
   "source": [
    "def plot_with_bounds(mu,  experiment, line_color, index, offset):\n",
    "\n",
    "    lower_bounds = artifacts[experiment][\"certificate\"]\n",
    "    B = artifacts[experiment][\"B\"]\n",
    "    delta = artifacts[experiment][\"delta\"]\n",
    "\n",
    "    # Set ggplot style\n",
    "    plt.style.use('ggplot')\n",
    "\n",
    "    # Create the plot\n",
    "\n",
    "\n",
    "    # Define the color for the elements\n",
    "\n",
    "    marker_size = 3  # Adjust the size of the 'x' marks\n",
    "\n",
    "    # Plot the main array as dots\n",
    "\n",
    "\n",
    "    # Plot the lower bounds as solid lines and horizontal bars\n",
    "    for i, arm in enumerate(B):\n",
    "        x_offset = x[arm] + offset * index\n",
    "        ax.plot([x_offset, x_offset], [lower_bounds[i], lower_bounds[i] + delta], '-', color=line_color)  # Vertical line\n",
    "        ax.plot([x_offset - 0.05, x_offset + 0.05], [lower_bounds[i], lower_bounds[i]], '-', color=line_color)  # Horizontal bar\n",
    "        ax.plot(x_offset, lower_bounds[i] + delta, 'x', color=line_color, markersize=marker_size)  # Upper confidence bound as 'x'\n",
    "\n",
    "\n",
    "fig, ax = plt.subplots(figsize=(5, 6))\n",
    "# Example data\n",
    "x = np.arange(5)\n",
    "y = mu  # Array to be plotted as dots\n",
    "dot_color = 'red'\n",
    "ax.plot(x, y, 'o', color=dot_color, label='Data points')\n",
    "\n",
    "experiments = artifacts.keys()\n",
    "colors = ['dodgerblue', '#2ca02c', '#ff7f0e']\n",
    "offset = 0.05 \n",
    "\n",
    "for index, (experiment, color) in enumerate(zip(experiments, colors)):\n",
    "    plot_with_bounds(mu, experiment, color, index, offset)\n",
    "\n",
    "# Add labels and title\n",
    "ax.set_xlabel('X-axis')\n",
    "ax.set_ylabel('Y-axis')\n",
    "ax.set_title('Plot with Data Points and Lower Bounds')\n",
    "ax.legend()\n",
    "\n",
    "# Customize the background grid lines to match ggplot\n",
    "ax.grid(True, color='white', linestyle='-', linewidth=0.7)\n",
    "ax.set_facecolor('#E5E5E5')  # ggplot-like grey background\n",
    "\n",
    "# Save the plot to a file\n",
    "plt.show()\n",
    "plt.savefig('plot_with_bounds.png')\n",
    "\n"
   ]
  },
  {
   "cell_type": "code",
   "execution_count": null,
   "id": "cd5114e6",
   "metadata": {},
   "outputs": [],
   "source": []
  }
 ],
 "metadata": {
  "kernelspec": {
   "display_name": "risk_certificates",
   "language": "python",
   "name": "python3"
  },
  "language_info": {
   "codemirror_mode": {
    "name": "ipython",
    "version": 3
   },
   "file_extension": ".py",
   "mimetype": "text/x-python",
   "name": "python",
   "nbconvert_exporter": "python",
   "pygments_lexer": "ipython3",
   "version": "3.11.9"
  }
 },
 "nbformat": 4,
 "nbformat_minor": 5
}
